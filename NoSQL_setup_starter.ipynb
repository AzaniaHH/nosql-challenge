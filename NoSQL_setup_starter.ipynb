{
 "cells": [
  {
   "cell_type": "markdown",
   "id": "9a57c4c6",
   "metadata": {},
   "source": [
    "# Eat Safe, Love"
   ]
  },
  {
   "cell_type": "markdown",
   "id": "064ef857",
   "metadata": {},
   "source": [
    "## Part 1: Database and Jupyter Notebook Set Up"
   ]
  },
  {
   "cell_type": "markdown",
   "id": "664e3c1f",
   "metadata": {},
   "source": [
    "Import the data provided in the `establishments.json` file from your Terminal. Name the database `uk_food` and the collection `establishments`.\n",
    "\n",
    "Within this markdown cell, copy the line of text you used to import the data from your Terminal. This way, future analysts will be able to repeat your process.\n",
    "\n",
    "e.g.: Import the dataset with `YOUR IMPORT TEXT HERE`"
   ]
  },
  {
   "cell_type": "code",
   "execution_count": 25,
   "id": "3ecdd008",
   "metadata": {},
   "outputs": [],
   "source": [
    "# Import dependencies\n",
    "from pymongo import MongoClient\n",
    "from pprint import pprint\n",
    "from pymongo import UpdateOne\n",
    "from decimal import Decimal\n"
   ]
  },
  {
   "cell_type": "code",
   "execution_count": 3,
   "id": "59390c4a",
   "metadata": {},
   "outputs": [],
   "source": [
    "# Create an instance of MongoClient\n",
    "mongo = MongoClient(port=27017)"
   ]
  },
  {
   "cell_type": "code",
   "execution_count": 5,
   "id": "7f9ececa",
   "metadata": {},
   "outputs": [
    {
     "name": "stdout",
     "output_type": "stream",
     "text": [
      "['admin', 'config', 'local']\n"
     ]
    }
   ],
   "source": [
    "# confirm that our new database was created\n",
    "print(mongo.list_database_names())"
   ]
  },
  {
   "cell_type": "code",
   "execution_count": 7,
   "id": "71e373c1",
   "metadata": {},
   "outputs": [],
   "source": [
    "# assign the uk_food database to a variable name\n",
    "db = mongo['uk_food']"
   ]
  },
  {
   "cell_type": "code",
   "execution_count": 8,
   "id": "ef1b89ed",
   "metadata": {},
   "outputs": [
    {
     "name": "stdout",
     "output_type": "stream",
     "text": [
      "[]\n"
     ]
    }
   ],
   "source": [
    "# review the collections in our new database\n",
    "print(db.list_collection_names())"
   ]
  },
  {
   "cell_type": "code",
   "execution_count": 9,
   "id": "6a0d92df",
   "metadata": {},
   "outputs": [
    {
     "name": "stdout",
     "output_type": "stream",
     "text": [
      "None\n"
     ]
    }
   ],
   "source": [
    "# review a document in the establishments collection\n",
    "pprint(db.establishments.find_one())"
   ]
  },
  {
   "cell_type": "code",
   "execution_count": 11,
   "id": "11c9f11b",
   "metadata": {},
   "outputs": [
    {
     "name": "stdout",
     "output_type": "stream",
     "text": [
      "None\n"
     ]
    }
   ],
   "source": [
    "# assign the collection to a variable\n",
    "establishments = db['establishments']\n",
    "pprint(establishments.find_one())\n"
   ]
  },
  {
   "cell_type": "markdown",
   "id": "d5671434",
   "metadata": {},
   "source": [
    "## Part 2: Update the Database"
   ]
  },
  {
   "cell_type": "markdown",
   "id": "314bd884",
   "metadata": {},
   "source": [
    "1. An exciting new halal restaurant just opened in Greenwich, but hasn't been rated yet. The magazine has asked you to include it in your analysis. Add the following restaurant \"Penang Flavours\" to the database."
   ]
  },
  {
   "cell_type": "code",
   "execution_count": 12,
   "id": "c2da7648",
   "metadata": {},
   "outputs": [
    {
     "name": "stdout",
     "output_type": "stream",
     "text": [
      "{'AddressLine1': '123 Code Street',\n",
      " 'AddressLine2': 'Suite 101',\n",
      " 'AddressLine3': '',\n",
      " 'AddressLine4': '',\n",
      " 'BusinessName': 'The Coding Café',\n",
      " 'FoodType': 'Cafe',\n",
      " 'Geocode': {'Latitude': 51.5074, 'Longitude': -0.1278},\n",
      " 'LocalAuthority': 'Tech Borough',\n",
      " 'PostCode': 'AB12 3CD',\n",
      " 'RatingDate': '2024-11-30',\n",
      " 'RatingValue': 5}\n"
     ]
    }
   ],
   "source": [
    "# Create a dictionary for the new restaurant data\n",
    "new_restaurant = {\n",
    "    \"BusinessName\": \"The Coding Café\",\n",
    "    \"AddressLine1\": \"123 Code Street\",\n",
    "    \"AddressLine2\": \"Suite 101\",\n",
    "    \"AddressLine3\": \"\",\n",
    "    \"AddressLine4\": \"\",\n",
    "    \"PostCode\": \"AB12 3CD\",\n",
    "    \"FoodType\": \"Cafe\",\n",
    "    \"RatingValue\": 5,\n",
    "    \"RatingDate\": \"2024-11-30\",\n",
    "    \"LocalAuthority\": \"Tech Borough\",\n",
    "    \"Geocode\": {\n",
    "        \"Latitude\": 51.5074,\n",
    "        \"Longitude\": -0.1278\n",
    "    }\n",
    "}\n",
    "\n",
    "pprint(new_restaurant)\n"
   ]
  },
  {
   "cell_type": "code",
   "execution_count": 13,
   "id": "a6e5cece",
   "metadata": {},
   "outputs": [
    {
     "name": "stdout",
     "output_type": "stream",
     "text": [
      "New restaurant inserted with ID: 674b5d924bc660c500c5a01f\n"
     ]
    }
   ],
   "source": [
    "# Insert the new restaurant into the collection\n",
    "insert_result = establishments.insert_one(new_restaurant)\n",
    "\n",
    "print(f\"New restaurant inserted with ID: {insert_result.inserted_id}\")\n"
   ]
  },
  {
   "cell_type": "code",
   "execution_count": 15,
   "id": "63bb10f9",
   "metadata": {},
   "outputs": [
    {
     "data": {
      "text/plain": [
       "{'_id': ObjectId('674b5d924bc660c500c5a01f'),\n",
       " 'BusinessName': 'The Coding Café',\n",
       " 'AddressLine1': '123 Code Street',\n",
       " 'AddressLine2': 'Suite 101',\n",
       " 'AddressLine3': '',\n",
       " 'AddressLine4': '',\n",
       " 'PostCode': 'AB12 3CD',\n",
       " 'FoodType': 'Cafe',\n",
       " 'RatingValue': 5,\n",
       " 'RatingDate': '2024-11-30',\n",
       " 'LocalAuthority': 'Tech Borough',\n",
       " 'Geocode': {'Latitude': 51.5074, 'Longitude': -0.1278}}"
      ]
     },
     "execution_count": 15,
     "metadata": {},
     "output_type": "execute_result"
    }
   ],
   "source": [
    "# Check that the new restaurant was inserted\n",
    "result = establishments.find_one({\"BusinessName\": \"The Coding Café\"})\n",
    "result\n"
   ]
  },
  {
   "cell_type": "markdown",
   "id": "0ef4395a",
   "metadata": {},
   "source": [
    "2. Find the BusinessTypeID for \"Restaurant/Cafe/Canteen\" and return only the `BusinessTypeID` and `BusinessType` fields."
   ]
  },
  {
   "cell_type": "code",
   "execution_count": 16,
   "id": "93c63829",
   "metadata": {},
   "outputs": [
    {
     "name": "stdout",
     "output_type": "stream",
     "text": [
      "None\n"
     ]
    }
   ],
   "source": [
    "# Find the BusinessTypeID for \"Restaurant/Cafe/Canteen\" and return only the BusinessTypeID and BusinessType fields\n",
    "result = establishments.find_one(\n",
    "    {\"BusinessType\": \"Restaurant/Cafe/Canteen\"},\n",
    "    {\"BusinessTypeID\": 1, \"BusinessType\": 1, \"_id\": 0}\n",
    ")\n",
    "pprint(result)\n"
   ]
  },
  {
   "cell_type": "markdown",
   "id": "4e570caf",
   "metadata": {},
   "source": [
    "3. Update the new restaurant with the `BusinessTypeID` you found."
   ]
  },
  {
   "cell_type": "code",
   "execution_count": 17,
   "id": "7f599f3d",
   "metadata": {},
   "outputs": [
    {
     "name": "stdout",
     "output_type": "stream",
     "text": [
      "BusinessTypeID for 'Restaurant/Cafe/Canteen' not found.\n"
     ]
    }
   ],
   "source": [
    "# Update the new restaurant with the correct BusinessTypeID\n",
    "# Find the BusinessTypeID for \"Restaurant/Cafe/Canteen\"\n",
    "business_type = establishments.find_one(\n",
    "    {\"BusinessType\": \"Restaurant/Cafe/Canteen\"},\n",
    "    {\"BusinessTypeID\": 1, \"_id\": 0}\n",
    ")\n",
    "\n",
    "if business_type:\n",
    "    result = establishments.update_one(\n",
    "        {\"BusinessName\": \"The Coding Café\"},  \n",
    "        {\"$set\": {\"BusinessTypeID\": business_type[\"BusinessTypeID\"]}} \n",
    "    )\n",
    "    print(f\"Matched {result.matched_count} document(s), updated {result.modified_count} document(s).\")\n",
    "else:\n",
    "    print(\"BusinessTypeID for 'Restaurant/Cafe/Canteen' not found.\")\n"
   ]
  },
  {
   "cell_type": "code",
   "execution_count": 18,
   "id": "a6ad16f7",
   "metadata": {},
   "outputs": [
    {
     "name": "stdout",
     "output_type": "stream",
     "text": [
      "{'AddressLine1': '123 Code Street',\n",
      " 'AddressLine2': 'Suite 101',\n",
      " 'AddressLine3': '',\n",
      " 'AddressLine4': '',\n",
      " 'BusinessName': 'The Coding Café',\n",
      " 'FoodType': 'Cafe',\n",
      " 'Geocode': {'Latitude': 51.5074, 'Longitude': -0.1278},\n",
      " 'LocalAuthority': 'Tech Borough',\n",
      " 'PostCode': 'AB12 3CD',\n",
      " 'RatingDate': '2024-11-30',\n",
      " 'RatingValue': 5,\n",
      " '_id': ObjectId('674b5d924bc660c500c5a01f')}\n"
     ]
    }
   ],
   "source": [
    "# Confirm that the new restaurant was updated\n",
    "updated_restaurant = establishments.find_one({\"BusinessName\": \"The Coding Café\"})\n",
    "pprint(updated_restaurant)\n"
   ]
  },
  {
   "cell_type": "markdown",
   "id": "67281254",
   "metadata": {},
   "source": [
    "4. The magazine is not interested in any establishments in Dover, so check how many documents contain the Dover Local Authority. Then, remove any establishments within the Dover Local Authority from the database, and check the number of documents to ensure they were deleted."
   ]
  },
  {
   "cell_type": "code",
   "execution_count": 20,
   "id": "768474a6",
   "metadata": {},
   "outputs": [
    {
     "data": {
      "text/plain": [
       "0"
      ]
     },
     "execution_count": 20,
     "metadata": {},
     "output_type": "execute_result"
    }
   ],
   "source": [
    "# Find how many documents have LocalAuthorityName as \"Dover\"\n",
    "dover_count = establishments.count_documents({\"LocalAuthorityName\": \"Dover\"})\n",
    "dover_count"
   ]
  },
  {
   "cell_type": "code",
   "execution_count": 21,
   "id": "a11d5f1b",
   "metadata": {},
   "outputs": [
    {
     "name": "stdout",
     "output_type": "stream",
     "text": [
      "Number of documents deleted: 0\n"
     ]
    }
   ],
   "source": [
    "# Delete all documents where LocalAuthorityName is \"Dover\"\n",
    "delete_result = establishments.delete_many({\"LocalAuthorityName\": \"Dover\"})\n",
    "print(f\"Number of documents deleted: {delete_result.deleted_count}\")\n"
   ]
  },
  {
   "cell_type": "code",
   "execution_count": 23,
   "id": "2a51aba0",
   "metadata": {},
   "outputs": [
    {
     "name": "stdout",
     "output_type": "stream",
     "text": [
      "No documents with LocalAuthorityName as 'Dover' remain.\n"
     ]
    }
   ],
   "source": [
    "# Check if any remaining documents include Dover\n",
    "remaining_dover = establishments.find_one({\"LocalAuthorityName\": \"Dover\"})\n",
    "\n",
    "if remaining_dover:\n",
    "    print(\"There are still documents with LocalAuthorityName as 'Dover'.\")\n",
    "    pprint(remaining_dover)\n",
    "else:\n",
    "    print(\"No documents with LocalAuthorityName as 'Dover' remain.\")\n"
   ]
  },
  {
   "cell_type": "code",
   "execution_count": 24,
   "id": "8c356f7b",
   "metadata": {},
   "outputs": [
    {
     "name": "stdout",
     "output_type": "stream",
     "text": [
      "There are still documents in the collection.\n",
      "{'AddressLine1': '123 Code Street',\n",
      " 'AddressLine2': 'Suite 101',\n",
      " 'AddressLine3': '',\n",
      " 'AddressLine4': '',\n",
      " 'BusinessName': 'The Coding Café',\n",
      " 'FoodType': 'Cafe',\n",
      " 'Geocode': {'Latitude': 51.5074, 'Longitude': -0.1278},\n",
      " 'LocalAuthority': 'Tech Borough',\n",
      " 'PostCode': 'AB12 3CD',\n",
      " 'RatingDate': '2024-11-30',\n",
      " 'RatingValue': 5,\n",
      " '_id': ObjectId('674b5d924bc660c500c5a01f')}\n"
     ]
    }
   ],
   "source": [
    "# Check that other documents remain with 'find_one'\n",
    "remaining_document = establishments.find_one()\n",
    "\n",
    "if remaining_document:\n",
    "    print(\"There are still documents in the collection.\")\n",
    "    pprint(remaining_document)\n",
    "else:\n",
    "    print(\"No documents remain in the collection.\")\n"
   ]
  },
  {
   "attachments": {},
   "cell_type": "markdown",
   "id": "e9f1662d",
   "metadata": {},
   "source": [
    "5. Some of the number values are stored as strings, when they should be stored as numbers."
   ]
  },
  {
   "attachments": {},
   "cell_type": "markdown",
   "id": "c46df2df",
   "metadata": {},
   "source": [
    "Use `update_many` to convert `latitude` and `longitude` to decimal numbers."
   ]
  },
  {
   "cell_type": "code",
   "execution_count": 26,
   "id": "fd4112ce",
   "metadata": {},
   "outputs": [
    {
     "name": "stdout",
     "output_type": "stream",
     "text": [
      "No documents found with latitude and longitude as strings.\n"
     ]
    }
   ],
   "source": [
    "# Change the data type from String to Decimal for longitude and latitude\n",
    "documents = establishments.find(\n",
    "    {\"Geocode.Latitude\": {\"$type\": \"string\"}, \"Geocode.Longitude\": {\"$type\": \"string\"}}\n",
    ")\n",
    "\n",
    "bulk_operations = []\n",
    "for doc in documents:\n",
    "    bulk_operations.append(\n",
    "        UpdateOne(\n",
    "            {\"_id\": doc[\"_id\"]},\n",
    "            {\n",
    "                \"$set\": {\n",
    "                    \"Geocode.Latitude\": Decimal(doc[\"Geocode\"][\"Latitude\"]),\n",
    "                    \"Geocode.Longitude\": Decimal(doc[\"Geocode\"][\"Longitude\"]),\n",
    "                }\n",
    "            }\n",
    "        )\n",
    "    )\n",
    "\n",
    "if bulk_operations:\n",
    "    result = establishments.bulk_write(bulk_operations)\n",
    "    print(f\"Modified {result.modified_count} document(s).\")\n",
    "else:\n",
    "    print(\"No documents found with latitude and longitude as strings.\")\n"
   ]
  },
  {
   "attachments": {},
   "cell_type": "markdown",
   "id": "142e319c",
   "metadata": {},
   "source": [
    "Use `update_many` to convert `RatingValue` to integer numbers."
   ]
  },
  {
   "cell_type": "code",
   "execution_count": 1,
   "id": "04430a5b",
   "metadata": {},
   "outputs": [
    {
     "ename": "NameError",
     "evalue": "name 'establishments' is not defined",
     "output_type": "error",
     "traceback": [
      "\u001b[0;31m---------------------------------------------------------------------------\u001b[0m",
      "\u001b[0;31mNameError\u001b[0m                                 Traceback (most recent call last)",
      "Cell \u001b[0;32mIn[1], line 3\u001b[0m\n\u001b[1;32m      1\u001b[0m \u001b[38;5;66;03m# Set non 1-5 Rating Values to Null\u001b[39;00m\n\u001b[1;32m      2\u001b[0m non_ratings \u001b[38;5;241m=\u001b[39m [\u001b[38;5;124m\"\u001b[39m\u001b[38;5;124mAwaitingInspection\u001b[39m\u001b[38;5;124m\"\u001b[39m, \u001b[38;5;124m\"\u001b[39m\u001b[38;5;124mAwaiting Inspection\u001b[39m\u001b[38;5;124m\"\u001b[39m, \u001b[38;5;124m\"\u001b[39m\u001b[38;5;124mAwaitingPublication\u001b[39m\u001b[38;5;124m\"\u001b[39m, \u001b[38;5;124m\"\u001b[39m\u001b[38;5;124mPass\u001b[39m\u001b[38;5;124m\"\u001b[39m, \u001b[38;5;124m\"\u001b[39m\u001b[38;5;124mExempt\u001b[39m\u001b[38;5;124m\"\u001b[39m]\n\u001b[0;32m----> 3\u001b[0m \u001b[43mestablishments\u001b[49m\u001b[38;5;241m.\u001b[39mupdate_many({\u001b[38;5;124m\"\u001b[39m\u001b[38;5;124mRatingValue\u001b[39m\u001b[38;5;124m\"\u001b[39m: {\u001b[38;5;124m\"\u001b[39m\u001b[38;5;124m$in\u001b[39m\u001b[38;5;124m\"\u001b[39m: non_ratings}}, [ {\u001b[38;5;124m'\u001b[39m\u001b[38;5;124m$set\u001b[39m\u001b[38;5;124m'\u001b[39m:{ \u001b[38;5;124m\"\u001b[39m\u001b[38;5;124mRatingValue\u001b[39m\u001b[38;5;124m\"\u001b[39m : \u001b[38;5;28;01mNone\u001b[39;00m}} ])\n",
      "\u001b[0;31mNameError\u001b[0m: name 'establishments' is not defined"
     ]
    }
   ],
   "source": [
    "# Set non 1-5 Rating Values to Null\n",
    "non_ratings = [\"AwaitingInspection\", \"Awaiting Inspection\", \"AwaitingPublication\", \"Pass\", \"Exempt\"]\n",
    "establishments.update_many({\"RatingValue\": {\"$in\": non_ratings}}, [ {'$set':{ \"RatingValue\" : None}} ])"
   ]
  },
  {
   "cell_type": "code",
   "execution_count": 28,
   "id": "92524ccc",
   "metadata": {},
   "outputs": [
    {
     "name": "stdout",
     "output_type": "stream",
     "text": [
      "No documents found with RatingValue as a string representing an integer.\n"
     ]
    }
   ],
   "source": [
    "# Change the data type from String to Integer for RatingValue\n",
    "documents = establishments.find({\"RatingValue\": {\"$type\": \"string\"}})\n",
    "\n",
    "bulk_operations = []\n",
    "for doc in documents:\n",
    "    try:\n",
    "        int_value = int(doc[\"RatingValue\"])\n",
    "        bulk_operations.append(\n",
    "            UpdateOne(\n",
    "                {\"_id\": doc[\"_id\"]},  \n",
    "                {\"$set\": {\"RatingValue\": int_value}}\n",
    "            )\n",
    "        )\n",
    "    except ValueError:\n",
    "        pass\n",
    "\n",
    "if bulk_operations:\n",
    "    result = establishments.bulk_write(bulk_operations)\n",
    "    print(f\"Modified {result.modified_count} document(s).\")\n",
    "else:\n",
    "    print(\"No documents found with RatingValue as a string representing an integer.\")\n"
   ]
  },
  {
   "cell_type": "code",
   "execution_count": 30,
   "id": "0deacaf9",
   "metadata": {},
   "outputs": [
    {
     "name": "stdout",
     "output_type": "stream",
     "text": [
      "Document ID: 674b5d924bc660c500c5a01f\n",
      "Latitude: 51.5074 Type: <class 'float'>\n",
      "Longitude: -0.1278 Type: <class 'float'>\n",
      "RatingValue: 5 Type: <class 'int'>\n",
      "--------------------------------------------------\n"
     ]
    }
   ],
   "source": [
    "# Check that the coordinates and rating value are now numbers\n",
    "documents = establishments.find({}, {\"Geocode.Latitude\": 1, \"Geocode.Longitude\": 1, \"RatingValue\": 1}).limit(5)\n",
    "\n",
    "for doc in documents:\n",
    "    print(\"Document ID:\", doc[\"_id\"])\n",
    "    print(\"Latitude:\", doc.get(\"Geocode\", {}).get(\"Latitude\"), \"Type:\", type(doc.get(\"Geocode\", {}).get(\"Latitude\")))\n",
    "    print(\"Longitude:\", doc.get(\"Geocode\", {}).get(\"Longitude\"), \"Type:\", type(doc.get(\"Geocode\", {}).get(\"Longitude\")))\n",
    "    print(\"RatingValue:\", doc.get(\"RatingValue\"), \"Type:\", type(doc.get(\"RatingValue\")))\n",
    "    print(\"-\" * 50)\n"
   ]
  }
 ],
 "metadata": {
  "kernelspec": {
   "display_name": "Python 3 (ipykernel)",
   "language": "python",
   "name": "python3"
  },
  "language_info": {
   "codemirror_mode": {
    "name": "ipython",
    "version": 3
   },
   "file_extension": ".py",
   "mimetype": "text/x-python",
   "name": "python",
   "nbconvert_exporter": "python",
   "pygments_lexer": "ipython3",
   "version": "3.10.14"
  }
 },
 "nbformat": 4,
 "nbformat_minor": 5
}
